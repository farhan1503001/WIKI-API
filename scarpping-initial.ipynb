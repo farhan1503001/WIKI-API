{
 "metadata": {
  "language_info": {
   "codemirror_mode": {
    "name": "ipython",
    "version": 3
   },
   "file_extension": ".py",
   "mimetype": "text/x-python",
   "name": "python",
   "nbconvert_exporter": "python",
   "pygments_lexer": "ipython3",
   "version": "3.9.5"
  },
  "orig_nbformat": 4,
  "kernelspec": {
   "name": "python3",
   "display_name": "Python 3.9.5 64-bit"
  },
  "interpreter": {
   "hash": "a23d9ba5368c474c8fd7c75fe5e7aa35139f9979fae9ef8560f975219a77b620"
  }
 },
 "nbformat": 4,
 "nbformat_minor": 2,
 "cells": [
  {
   "cell_type": "code",
   "execution_count": 69,
   "metadata": {},
   "outputs": [],
   "source": [
    "import ssl\n",
    "import requests\n",
    "from bs4 import BeautifulSoup"
   ]
  },
  {
   "cell_type": "code",
   "execution_count": 70,
   "metadata": {},
   "outputs": [],
   "source": [
    "#Preparing context for handeling SSL certificate errors\n",
    "ctx=ssl.create_default_context()\n",
    "ctx.check_hostname=False\n",
    "ctx.verify_mode=ssl.CERT_NONE"
   ]
  },
  {
   "cell_type": "code",
   "execution_count": 71,
   "metadata": {},
   "outputs": [],
   "source": [
    "url='https://en.wikipedia.org/wiki/List_of_Academy_Award-winning_films'\n",
    "base='https://en.wikipedia.org'\n",
    "\n",
    "page=requests.get(url=url)\n",
    "\n",
    "soup=BeautifulSoup(page.content,'html.parser')"
   ]
  },
  {
   "cell_type": "code",
   "execution_count": 72,
   "metadata": {
    "tags": []
   },
   "outputs": [
    {
     "output_type": "stream",
     "name": "stdout",
     "text": [
      "1344\n"
     ]
    }
   ],
   "source": [
    "number_of_rows = len(soup.find_all('tr'))\n",
    "print(number_of_rows)"
   ]
  },
  {
   "cell_type": "code",
   "execution_count": 73,
   "metadata": {
    "tags": []
   },
   "outputs": [
    {
     "output_type": "stream",
     "name": "stdout",
     "text": [
      "<a href=\"/wiki/Judas_and_the_Black_Messiah\" title=\"Judas and the Black Messiah\">Judas and the Black Messiah</a>\n"
     ]
    }
   ],
   "source": [
    "anchors=soup.find_all('i')[2].find('a')\n",
    "print(anchors)"
   ]
  },
  {
   "cell_type": "code",
   "execution_count": 74,
   "metadata": {
    "tags": []
   },
   "outputs": [],
   "source": [
    "count=0\n",
    "for link in anchors.find_all('a',href=True):\n",
    "    print(link)\n",
    "    if count==100:\n",
    "        break\n",
    "    count=count+1\n",
    "    print(count)"
   ]
  },
  {
   "cell_type": "code",
   "execution_count": 75,
   "metadata": {},
   "outputs": [],
   "source": [
    "Response=requests.get(base+link['href'])"
   ]
  },
  {
   "cell_type": "code",
   "execution_count": 76,
   "metadata": {},
   "outputs": [],
   "source": [
    "souper=BeautifulSoup(Response.content,'html.parser')"
   ]
  },
  {
   "cell_type": "code",
   "execution_count": 77,
   "metadata": {},
   "outputs": [
    {
     "output_type": "stream",
     "name": "stdout",
     "text": [
      "Directed by\nChloé Zhao\n--------------\nProduced by\n\nFrances McDormand\nPeter Spears\nMollye Asher\nDan Janvey\nChloé Zhao\n\n--------------\nScreenplay by\nChloé Zhao\n--------------\nBased on\nNomadland: Surviving America in the Twenty-First Centuryby Jessica Bruder\n--------------\nStarring\n\nFrances McDormand\nDavid Strathairn\nLinda May\nSwankie\n\n--------------\nMusic by\nLudovico Einaudi\n--------------\nCinematography\nJoshua James Richards\n--------------\nEdited by\nChloé Zhao\n--------------\nProductioncompanies \n\nHighwayman Films\nHear/Say Productions\nCor Cordium Productions\n\n--------------\nDistributed by\nSearchlight Pictures\n--------------\nRelease date\n\nSeptember 11, 2020 (2020-09-11) (Venice)\nFebruary 19, 2021 (2021-02-19) (United States)\n\n--------------\nRunning time\n108 minutes\n--------------\nCountry\nUnited States\n--------------\nLanguage\nEnglish\n--------------\nBudget\n$5 million\n--------------\nBox office\n$20.7 million\n--------------\n"
     ]
    }
   ],
   "source": [
    "table_row=souper.find_all('tr')\n",
    "        #Find director\n",
    "for row in table_row:\n",
    "    try:\n",
    "        label=row.find_all('th',{'class':'infobox-label'})[0]\n",
    "        print(label.text)\n",
    "        data=row.find_all('td',{'class':'infobox-data'})[0]\n",
    "        print(data.text.split('[')[0])\n",
    "        print('--------------')\n",
    "    except:\n",
    "        pass"
   ]
  },
  {
   "cell_type": "code",
   "execution_count": 84,
   "metadata": {
    "tags": []
   },
   "outputs": [
    {
     "output_type": "error",
     "ename": "IndentationError",
     "evalue": "expected an indented block (<ipython-input-84-c6d8888f6239>, line 6)",
     "traceback": [
      "\u001b[1;36m  File \u001b[1;32m\"<ipython-input-84-c6d8888f6239>\"\u001b[1;36m, line \u001b[1;32m6\u001b[0m\n\u001b[1;33m    movie_list=soup.find_all('i')[line].find('a')\u001b[0m\n\u001b[1;37m    ^\u001b[0m\n\u001b[1;31mIndentationError\u001b[0m\u001b[1;31m:\u001b[0m expected an indented block\n"
     ]
    }
   ],
   "source": [
    "#Final assembly\n",
    "import time\n",
    "for line in range(number_of_rows-1):\n",
    "    header='https://en.wikipedia.org'\n",
    "    try:\n",
    "    movie_list=soup.find_all('i')[line].find('a')\n",
    "    if movie_list:\n",
    "        raise Exception(line)\n",
    "    except Exception as e:\n",
    "        print(e)\n",
    "        continue\n",
    "    response=requests.get(header+movie_list['href'])\n",
    "    item_movie=BeautifulSoup(response.content,'html.parser')\n",
    "    row_table=item_movie.find_all('tr')\n",
    "        #Find director\n",
    "    for value in row_table:\n",
    "        try:\n",
    "            lb=value.find_all('th',{'class':'infobox-label'})[0]\n",
    "            print(lb.text)\n",
    "            info=value.find_all('td',{'class':'infobox-data'})[0]\n",
    "            print(info.text.split('[')[0])\n",
    "            print('--------------')\n",
    "        except:\n",
    "            pass\n",
    "\n",
    "    print('Resting for 1 seconds')\n",
    "    time.sleep(1)\n",
    "    del movie_list\n",
    "    del response\n",
    "    del item_movie\n",
    "    del row_table\n",
    "\n",
    "\n"
   ]
  },
  {
   "cell_type": "code",
   "execution_count": null,
   "metadata": {},
   "outputs": [],
   "source": []
  }
 ]
}