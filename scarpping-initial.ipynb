{
 "metadata": {
  "language_info": {
   "codemirror_mode": {
    "name": "ipython",
    "version": 3
   },
   "file_extension": ".py",
   "mimetype": "text/x-python",
   "name": "python",
   "nbconvert_exporter": "python",
   "pygments_lexer": "ipython3",
   "version": "3.9.5"
  },
  "orig_nbformat": 4,
  "kernelspec": {
   "name": "python3",
   "display_name": "Python 3.9.5 64-bit"
  },
  "interpreter": {
   "hash": "a23d9ba5368c474c8fd7c75fe5e7aa35139f9979fae9ef8560f975219a77b620"
  }
 },
 "nbformat": 4,
 "nbformat_minor": 2,
 "cells": [
  {
   "cell_type": "code",
   "execution_count": 11,
   "metadata": {},
   "outputs": [],
   "source": [
    "import ssl\n",
    "import requests\n",
    "from bs4 import BeautifulSoup"
   ]
  },
  {
   "cell_type": "code",
   "execution_count": 12,
   "metadata": {},
   "outputs": [],
   "source": [
    "#Preparing context for handeling SSL certificate errors\n",
    "ctx=ssl.create_default_context()\n",
    "ctx.check_hostname=False\n",
    "ctx.verify_mode=ssl.CERT_NONE"
   ]
  },
  {
   "cell_type": "code",
   "execution_count": 13,
   "metadata": {},
   "outputs": [],
   "source": [
    "url='https://en.wikipedia.org/wiki/List_of_Academy_Award-winning_films'\n",
    "base='https://en.wikipedia.org'\n",
    "\n",
    "page=requests.get(url=url)\n",
    "\n",
    "soup=BeautifulSoup(page.content,'html.parser')"
   ]
  },
  {
   "cell_type": "code",
   "execution_count": 14,
   "metadata": {
    "tags": []
   },
   "outputs": [
    {
     "output_type": "stream",
     "name": "stdout",
     "text": [
      "1344\n"
     ]
    }
   ],
   "source": [
    "number_of_rows = len(soup.findAll('tr'))\n",
    "print(number_of_rows)"
   ]
  },
  {
   "cell_type": "code",
   "execution_count": 15,
   "metadata": {},
   "outputs": [],
   "source": [
    "anchors=soup.find_all('td')[0].find('i')"
   ]
  },
  {
   "cell_type": "code",
   "execution_count": 16,
   "metadata": {
    "tags": []
   },
   "outputs": [
    {
     "output_type": "stream",
     "name": "stdout",
     "text": [
      "<a href=\"/wiki/Nomadland_(film)\" title=\"Nomadland (film)\">Nomadland</a>\n"
     ]
    }
   ],
   "source": [
    "count=0\n",
    "for link in anchors.find_all('a',href=True):\n",
    "    print(link)\n",
    "    if count==100:\n",
    "        break\n",
    "    count=count+1"
   ]
  },
  {
   "cell_type": "code",
   "execution_count": 17,
   "metadata": {},
   "outputs": [],
   "source": [
    "Response=requests.get(base+link['href'])"
   ]
  },
  {
   "cell_type": "code",
   "execution_count": 18,
   "metadata": {
    "tags": [
     "outputPrepend"
    ]
   },
   "outputs": [
    {
     "output_type": "stream",
     "name": "stdout",
     "text": [
      "a></li><li id=\"n-portal\"><a href=\"/wiki/Wikipedia:Community_portal\" title=\"The hub for editors\">Community portal</a></li><li id=\"n-recentchanges\"><a href=\"/wiki/Special:RecentChanges\" title=\"A list of recent changes to Wikipedia [r]\" accesskey=\"r\">Recent changes</a></li><li id=\"n-upload\"><a href=\"/wiki/Wikipedia:File_Upload_Wizard\" title=\"Add images or other media for use on Wikipedia\">Upload file</a></li></ul>\\n\\t\\t\\n\\t</div>\\n</nav>\\n<nav id=\"p-tb\" class=\"mw-portlet mw-portlet-tb vector-menu vector-menu-portal portal\" aria-labelledby=\"p-tb-label\" role=\"navigation\" \\n\\t >\\n\\t<h3 id=\"p-tb-label\" class=\"vector-menu-heading\">\\n\\t\\t<span>Tools</span>\\n\\t</h3>\\n\\t<div class=\"vector-menu-content\">\\n\\t\\t\\n\\t\\t<ul class=\"vector-menu-content-list\"><li id=\"t-whatlinkshere\"><a href=\"/wiki/Special:WhatLinksHere/Nomadland_(film)\" title=\"List of all English Wikipedia pages containing links to this page [j]\" accesskey=\"j\">What links here</a></li><li id=\"t-recentchangeslinked\"><a href=\"/wiki/Special:RecentChangesLinked/Nomadland_(film)\" rel=\"nofollow\" title=\"Recent changes in pages linked from this page [k]\" accesskey=\"k\">Related changes</a></li><li id=\"t-upload\"><a href=\"/wiki/Wikipedia:File_Upload_Wizard\" title=\"Upload files [u]\" accesskey=\"u\">Upload file</a></li><li id=\"t-specialpages\"><a href=\"/wiki/Special:SpecialPages\" title=\"A list of all special pages [q]\" accesskey=\"q\">Special pages</a></li><li id=\"t-permalink\"><a href=\"/w/index.php?title=Nomadland_(film)&amp;oldid=1030280942\" title=\"Permanent link to this revision of this page\">Permanent link</a></li><li id=\"t-info\"><a href=\"/w/index.php?title=Nomadland_(film)&amp;action=info\" title=\"More information about this page\">Page information</a></li><li id=\"t-cite\"><a href=\"/w/index.php?title=Special:CiteThisPage&amp;page=Nomadland_%28film%29&amp;id=1030280942&amp;wpFormIdentifier=titleform\" title=\"Information on how to cite this page\">Cite this page</a></li><li id=\"t-wikibase\"><a href=\"https://www.wikidata.org/wiki/Special:EntityPage/Q61740820\" title=\"Structured data on this page hosted by Wikidata [g]\" accesskey=\"g\">Wikidata item</a></li></ul>\\n\\t\\t\\n\\t</div>\\n</nav>\\n<nav id=\"p-coll-print_export\" class=\"mw-portlet mw-portlet-coll-print_export vector-menu vector-menu-portal portal\" aria-labelledby=\"p-coll-print_export-label\" role=\"navigation\" \\n\\t >\\n\\t<h3 id=\"p-coll-print_export-label\" class=\"vector-menu-heading\">\\n\\t\\t<span>Print/export</span>\\n\\t</h3>\\n\\t<div class=\"vector-menu-content\">\\n\\t\\t\\n\\t\\t<ul class=\"vector-menu-content-list\"><li id=\"coll-download-as-rl\"><a href=\"/w/index.php?title=Special:DownloadAsPdf&amp;page=Nomadland_%28film%29&amp;action=show-download-screen\" title=\"Download this page as a PDF file\">Download as PDF</a></li><li id=\"t-print\"><a href=\"/w/index.php?title=Nomadland_(film)&amp;printable=yes\" title=\"Printable version of this page [p]\" accesskey=\"p\">Printable version</a></li></ul>\\n\\t\\t\\n\\t</div>\\n</nav>\\n<nav id=\"p-wikibase-otherprojects\" class=\"mw-portlet mw-portlet-wikibase-otherprojects vector-menu vector-menu-portal portal\" aria-labelledby=\"p-wikibase-otherprojects-label\" role=\"navigation\" \\n\\t >\\n\\t<h3 id=\"p-wikibase-otherprojects-label\" class=\"vector-menu-heading\">\\n\\t\\t<span>In other projects</span>\\n\\t</h3>\\n\\t<div class=\"vector-menu-content\">\\n\\t\\t\\n\\t\\t<ul class=\"vector-menu-content-list\"><li class=\"wb-otherproject-link wb-otherproject-commons\"><a href=\"https://commons.wikimedia.org/wiki/Category:Nomadland_(film)\" hreflang=\"en\">Wikimedia Commons</a></li><li class=\"wb-otherproject-link wb-otherproject-wikiquote\"><a href=\"https://en.wikiquote.org/wiki/Nomadland_(film)\" hreflang=\"en\">Wikiquote</a></li></ul>\\n\\t\\t\\n\\t</div>\\n</nav>\\n\\n\\t<nav id=\"p-lang\" class=\"mw-portlet mw-portlet-lang vector-menu vector-menu-portal portal\" aria-labelledby=\"p-lang-label\" role=\"navigation\" \\n\\t >\\n\\t<h3 id=\"p-lang-label\" class=\"vector-menu-heading\">\\n\\t\\t<span>Languages</span>\\n\\t</h3>\\n\\t<div class=\"vector-menu-content\">\\n\\t\\t\\n\\t\\t<ul class=\"vector-menu-content-list\"><li class=\"interlanguage-link interwiki-af\"><a href=\"https://af.wikipedia.org/wiki/Nomadland_(rolprent)\" title=\"Nomadland (rolprent) \\xe2\\x80\\x93 Afrikaans\" lang=\"af\" hreflang=\"af\" class=\"interlanguage-link-target\">Afrikaans</a></li><li class=\"interlanguage-link interwiki-ar\"><a href=\"https://ar.wikipedia.org/wiki/%D9%86%D9%88%D9%85%D8%A7%D8%AF%D9%84%D8%A7%D9%86%D8%AF_(%D9%81%D9%8A%D9%84%D9%85)\" title=\"\\xd9\\x86\\xd9\\x88\\xd9\\x85\\xd8\\xa7\\xd8\\xaf\\xd9\\x84\\xd8\\xa7\\xd9\\x86\\xd8\\xaf (\\xd9\\x81\\xd9\\x8a\\xd9\\x84\\xd9\\x85) \\xe2\\x80\\x93 Arabic\" lang=\"ar\" hreflang=\"ar\" class=\"interlanguage-link-target\">\\xd8\\xa7\\xd9\\x84\\xd8\\xb9\\xd8\\xb1\\xd8\\xa8\\xd9\\x8a\\xd8\\xa9</a></li><li class=\"interlanguage-link interwiki-be\"><a href=\"https://be.wikipedia.org/wiki/%D0%97%D1%8F%D0%BC%D0%BB%D1%8F_%D0%BA%D0%B0%D1%87%D1%8D%D1%9E%D0%BD%D1%96%D0%BA%D0%B0%D1%9E\" title=\"\\xd0\\x97\\xd1\\x8f\\xd0\\xbc\\xd0\\xbb\\xd1\\x8f \\xd0\\xba\\xd0\\xb0\\xd1\\x87\\xd1\\x8d\\xd1\\x9e\\xd0\\xbd\\xd1\\x96\\xd0\\xba\\xd0\\xb0\\xd1\\x9e \\xe2\\x80\\x93 Belarusian\" lang=\"be\" hreflang=\"be\" class=\"interlanguage-link-target\">\\xd0\\x91\\xd0\\xb5\\xd0\\xbb\\xd0\\xb0\\xd1\\x80\\xd1\\x83\\xd1\\x81\\xd0\\xba\\xd0\\xb0\\xd1\\x8f</a></li><li class=\"interlanguage-link interwiki-ca\"><a href=\"https://ca.wikipedia.org/wiki/Nomadland\" title=\"Nomadland \\xe2\\x80\\x93 Catalan\" lang=\"ca\" hreflang=\"ca\" class=\"interlanguage-link-target\">Catal\\xc3\\xa0</a></li><li class=\"interlanguage-link interwiki-cs\"><a href=\"https://cs.wikipedia.org/wiki/Zem%C4%9B_nom%C3%A1d%C5%AF\" title=\"Zem\\xc4\\x9b nom\\xc3\\xa1d\\xc5\\xaf \\xe2\\x80\\x93 Czech\" lang=\"cs\" hreflang=\"cs\" class=\"interlanguage-link-target\">\\xc4\\x8ce\\xc5\\xa1tina</a></li><li class=\"interlanguage-link interwiki-cy\"><a href=\"https://cy.wikipedia.org/wiki/Nomadland\" title=\"Nomadland \\xe2\\x80\\x93 Welsh\" lang=\"cy\" hreflang=\"cy\" class=\"interlanguage-link-target\">Cymraeg</a></li><li class=\"interlanguage-link interwiki-da\"><a href=\"https://da.wikipedia.org/wiki/Nomadland\" title=\"Nomadland \\xe2\\x80\\x93 Danish\" lang=\"da\" hreflang=\"da\" class=\"interlanguage-link-target\">Dansk</a></li><li class=\"interlanguage-link interwiki-de\"><a href=\"https://de.wikipedia.org/wiki/Nomadland\" title=\"Nomadland \\xe2\\x80\\x93 German\" lang=\"de\" hreflang=\"de\" class=\"interlanguage-link-target\">Deutsch</a></li><li class=\"interlanguage-link interwiki-el\"><a href=\"https://el.wikipedia.org/wiki/Nomadland\" title=\"Nomadland \\xe2\\x80\\x93 Greek\" lang=\"el\" hreflang=\"el\" class=\"interlanguage-link-target\">\\xce\\x95\\xce\\xbb\\xce\\xbb\\xce\\xb7\\xce\\xbd\\xce\\xb9\\xce\\xba\\xce\\xac</a></li><li class=\"interlanguage-link interwiki-es\"><a href=\"https://es.wikipedia.org/wiki/Nomadland\" title=\"Nomadland \\xe2\\x80\\x93 Spanish\" lang=\"es\" hreflang=\"es\" class=\"interlanguage-link-target\">Espa\\xc3\\xb1ol</a></li><li class=\"interlanguage-link interwiki-eu\"><a href=\"https://eu.wikipedia.org/wiki/Nomadland\" title=\"Nomadland \\xe2\\x80\\x93 Basque\" lang=\"eu\" hreflang=\"eu\" class=\"interlanguage-link-target\">Euskara</a></li><li class=\"interlanguage-link interwiki-fa\"><a href=\"https://fa.wikipedia.org/wiki/%D8%B3%D8%B1%D8%B2%D9%85%DB%8C%D9%86_%D8%AE%D8%A7%D9%86%D9%87%E2%80%8C%D8%A8%D9%87%E2%80%8C%D8%AF%D9%88%D8%B4%E2%80%8C%D9%87%D8%A7\" title=\"\\xd8\\xb3\\xd8\\xb1\\xd8\\xb2\\xd9\\x85\\xdb\\x8c\\xd9\\x86 \\xd8\\xae\\xd8\\xa7\\xd9\\x86\\xd9\\x87\\xe2\\x80\\x8c\\xd8\\xa8\\xd9\\x87\\xe2\\x80\\x8c\\xd8\\xaf\\xd9\\x88\\xd8\\xb4\\xe2\\x80\\x8c\\xd9\\x87\\xd8\\xa7 \\xe2\\x80\\x93 Persian\" lang=\"fa\" hreflang=\"fa\" class=\"interlanguage-link-target\">\\xd9\\x81\\xd8\\xa7\\xd8\\xb1\\xd8\\xb3\\xdb\\x8c</a></li><li class=\"interlanguage-link interwiki-fr\"><a href=\"https://fr.wikipedia.org/wiki/Nomadland\" title=\"Nomadland \\xe2\\x80\\x93 French\" lang=\"fr\" hreflang=\"fr\" class=\"interlanguage-link-target\">Fran\\xc3\\xa7ais</a></li><li class=\"interlanguage-link interwiki-gl\"><a href=\"https://gl.wikipedia.org/wiki/Nomadland_(filme)\" title=\"Nomadland (filme) \\xe2\\x80\\x93 Galician\" lang=\"gl\" hreflang=\"gl\" class=\"interlanguage-link-target\">Galego</a></li><li class=\"interlanguage-link interwiki-ko\"><a href=\"https://ko.wikipedia.org/wiki/%EB%85%B8%EB%A7%A4%EB%93%9C%EB%9E%9C%EB%93%9C\" title=\"\\xeb\\x85\\xb8\\xeb\\xa7\\xa4\\xeb\\x93\\x9c\\xeb\\x9e\\x9c\\xeb\\x93\\x9c \\xe2\\x80\\x93 Korean\" lang=\"ko\" hreflang=\"ko\" class=\"interlanguage-link-target\">\\xed\\x95\\x9c\\xea\\xb5\\xad\\xec\\x96\\xb4</a></li><li class=\"interlanguage-link interwiki-hy\"><a href=\"https://hy.wikipedia.org/wiki/%D5%86%D5%B8%D5%B4%D5%A1%D5%A4%D5%AC%D5%A5%D5%B6%D5%A4\" title=\"\\xd5\\x86\\xd5\\xb8\\xd5\\xb4\\xd5\\xa1\\xd5\\xa4\\xd5\\xac\\xd5\\xa5\\xd5\\xb6\\xd5\\xa4 \\xe2\\x80\\x93 Armenian\" lang=\"hy\" hreflang=\"hy\" class=\"interlanguage-link-target\">\\xd5\\x80\\xd5\\xa1\\xd5\\xb5\\xd5\\xa5\\xd6\\x80\\xd5\\xa5\\xd5\\xb6</a></li><li class=\"interlanguage-link interwiki-id\"><a href=\"https://id.wikipedia.org/wiki/Nomadland\" title=\"Nomadland \\xe2\\x80\\x93 Indonesian\" lang=\"id\" hreflang=\"id\" class=\"interlanguage-link-target\">Bahasa Indonesia</a></li><li class=\"interlanguage-link interwiki-it\"><a href=\"https://it.wikipedia.org/wiki/Nomadland\" title=\"Nomadland \\xe2\\x80\\x93 Italian\" lang=\"it\" hreflang=\"it\" class=\"interlanguage-link-target\">Italiano</a></li><li class=\"interlanguage-link interwiki-he\"><a href=\"https://he.wikipedia.org/wiki/%D7%90%D7%A8%D7%A5_%D7%A0%D7%95%D7%95%D7%93%D7%99%D7%9D\" title=\"\\xd7\\x90\\xd7\\xa8\\xd7\\xa5 \\xd7\\xa0\\xd7\\x95\\xd7\\x95\\xd7\\x93\\xd7\\x99\\xd7\\x9d \\xe2\\x80\\x93 Hebrew\" lang=\"he\" hreflang=\"he\" class=\"interlanguage-link-target\">\\xd7\\xa2\\xd7\\x91\\xd7\\xa8\\xd7\\x99\\xd7\\xaa</a></li><li class=\"interlanguage-link interwiki-lv\"><a href=\"https://lv.wikipedia.org/wiki/Klejot%C4%81ju_zeme\" title=\"Klejot\\xc4\\x81ju zeme \\xe2\\x80\\x93 Latvian\" lang=\"lv\" hreflang=\"lv\" class=\"interlanguage-link-target\">Latvie\\xc5\\xa1u</a></li><li class=\"interlanguage-link interwiki-hu\"><a href=\"https://hu.wikipedia.org/wiki/A_nom%C3%A1dok_f%C3%B6ldje\" title=\"A nom\\xc3\\xa1dok f\\xc3\\xb6ldje \\xe2\\x80\\x93 Hungarian\" lang=\"hu\" hreflang=\"hu\" class=\"interlanguage-link-target\">Magyar</a></li><li class=\"interlanguage-link interwiki-ml\"><a href=\"https://ml.wikipedia.org/wiki/%E0%B4%A8%E0%B5%8A%E0%B4%AE%E0%B4%BE%E0%B4%A1%E0%B5%8D%E2%80%8C_%E0%B4%B2%E0%B4%BE%E0%B5%BB%E0%B4%A1%E0%B5%8D_(%E0%B4%9A%E0%B4%B2%E0%B4%9A%E0%B5%8D%E0%B4%9A%E0%B4%BF%E0%B4%A4%E0%B5%8D%E0%B4%B0%E0%B4%82)\" title=\"\\xe0\\xb4\\xa8\\xe0\\xb5\\x8a\\xe0\\xb4\\xae\\xe0\\xb4\\xbe\\xe0\\xb4\\xa1\\xe0\\xb5\\x8d\\xe2\\x80\\x8c \\xe0\\xb4\\xb2\\xe0\\xb4\\xbe\\xe0\\xb5\\xbb\\xe0\\xb4\\xa1\\xe0\\xb5\\x8d (\\xe0\\xb4\\x9a\\xe0\\xb4\\xb2\\xe0\\xb4\\x9a\\xe0\\xb5\\x8d\\xe0\\xb4\\x9a\\xe0\\xb4\\xbf\\xe0\\xb4\\xa4\\xe0\\xb5\\x8d\\xe0\\xb4\\xb0\\xe0\\xb4\\x82) \\xe2\\x80\\x93 Malayalam\" lang=\"ml\" hreflang=\"ml\" class=\"interlanguage-link-target\">\\xe0\\xb4\\xae\\xe0\\xb4\\xb2\\xe0\\xb4\\xaf\\xe0\\xb4\\xbe\\xe0\\xb4\\xb3\\xe0\\xb4\\x82</a></li><li class=\"interlanguage-link interwiki-ms\"><a href=\"https://ms.wikipedia.org/wiki/Nomadland\" title=\"Nomadland \\xe2\\x80\\x93 Malay\" lang=\"ms\" hreflang=\"ms\" class=\"interlanguage-link-target\">Bahasa Melayu</a></li><li class=\"interlanguage-link interwiki-nl\"><a href=\"https://nl.wikipedia.org/wiki/Nomadland\" title=\"Nomadland \\xe2\\x80\\x93 Dutch\" lang=\"nl\" hreflang=\"nl\" class=\"interlanguage-link-target\">Nederlands</a></li><li class=\"interlanguage-link interwiki-ja\"><a href=\"https://ja.wikipedia.org/wiki/%E3%83%8E%E3%83%9E%E3%83%89%E3%83%A9%E3%83%B3%E3%83%89\" title=\"\\xe3\\x83\\x8e\\xe3\\x83\\x9e\\xe3\\x83\\x89\\xe3\\x83\\xa9\\xe3\\x83\\xb3\\xe3\\x83\\x89 \\xe2\\x80\\x93 Japanese\" lang=\"ja\" hreflang=\"ja\" class=\"interlanguage-link-target\">\\xe6\\x97\\xa5\\xe6\\x9c\\xac\\xe8\\xaa\\x9e</a></li><li class=\"interlanguage-link interwiki-pl\"><a href=\"https://pl.wikipedia.org/wiki/Nomadland\" title=\"Nomadland \\xe2\\x80\\x93 Polish\" lang=\"pl\" hreflang=\"pl\" class=\"interlanguage-link-target\">Polski</a></li><li class=\"interlanguage-link interwiki-pt\"><a href=\"https://pt.wikipedia.org/wiki/Nomadland\" title=\"Nomadland \\xe2\\x80\\x93 Portuguese\" lang=\"pt\" hreflang=\"pt\" class=\"interlanguage-link-target\">Portugu\\xc3\\xaas</a></li><li class=\"interlanguage-link interwiki-ro\"><a href=\"https://ro.wikipedia.org/wiki/Nomadland_(film)\" title=\"Nomadland (film) \\xe2\\x80\\x93 Romanian\" lang=\"ro\" hreflang=\"ro\" class=\"interlanguage-link-target\">Rom\\xc3\\xa2n\\xc4\\x83</a></li><li class=\"interlanguage-link interwiki-ru\"><a href=\"https://ru.wikipedia.org/wiki/%D0%97%D0%B5%D0%BC%D0%BB%D1%8F_%D0%BA%D0%BE%D1%87%D0%B5%D0%B2%D0%BD%D0%B8%D0%BA%D0%BE%D0%B2\" title=\"\\xd0\\x97\\xd0\\xb5\\xd0\\xbc\\xd0\\xbb\\xd1\\x8f \\xd0\\xba\\xd0\\xbe\\xd1\\x87\\xd0\\xb5\\xd0\\xb2\\xd0\\xbd\\xd0\\xb8\\xd0\\xba\\xd0\\xbe\\xd0\\xb2 \\xe2\\x80\\x93 Russian\" lang=\"ru\" hreflang=\"ru\" class=\"interlanguage-link-target\">\\xd0\\xa0\\xd1\\x83\\xd1\\x81\\xd1\\x81\\xd0\\xba\\xd0\\xb8\\xd0\\xb9</a></li><li class=\"interlanguage-link interwiki-simple\"><a href=\"https://simple.wikipedia.org/wiki/Nomadland_(movie)\" title=\"Nomadland (movie) \\xe2\\x80\\x93 Simple English\" lang=\"en-simple\" hreflang=\"en-simple\" class=\"interlanguage-link-target\">Simple English</a></li><li class=\"interlanguage-link interwiki-sr\"><a href=\"https://sr.wikipedia.org/wiki/%D0%97%D0%B5%D0%BC%D1%99%D0%B0_%D0%BD%D0%BE%D0%BC%D0%B0%D0%B4%D0%B0\" title=\"\\xd0\\x97\\xd0\\xb5\\xd0\\xbc\\xd1\\x99\\xd0\\xb0 \\xd0\\xbd\\xd0\\xbe\\xd0\\xbc\\xd0\\xb0\\xd0\\xb4\\xd0\\xb0 \\xe2\\x80\\x93 Serbian\" lang=\"sr\" hreflang=\"sr\" class=\"interlanguage-link-target\">\\xd0\\xa1\\xd1\\x80\\xd0\\xbf\\xd1\\x81\\xd0\\xba\\xd0\\xb8 / srpski</a></li><li class=\"interlanguage-link interwiki-fi\"><a href=\"https://fi.wikipedia.org/wiki/Nomadland\" title=\"Nomadland \\xe2\\x80\\x93 Finnish\" lang=\"fi\" hreflang=\"fi\" class=\"interlanguage-link-target\">Suomi</a></li><li class=\"interlanguage-link interwiki-sv\"><a href=\"https://sv.wikipedia.org/wiki/Nomadland\" title=\"Nomadland \\xe2\\x80\\x93 Swedish\" lang=\"sv\" hreflang=\"sv\" class=\"interlanguage-link-target\">Svenska</a></li><li class=\"interlanguage-link interwiki-tr\"><a href=\"https://tr.wikipedia.org/wiki/Nomadland_(film)\" title=\"Nomadland (film) \\xe2\\x80\\x93 Turkish\" lang=\"tr\" hreflang=\"tr\" class=\"interlanguage-link-target\">T\\xc3\\xbcrk\\xc3\\xa7e</a></li><li class=\"interlanguage-link interwiki-uk\"><a href=\"https://uk.wikipedia.org/wiki/%D0%97%D0%B5%D0%BC%D0%BB%D1%8F_%D0%BA%D0%BE%D1%87%D0%BE%D0%B2%D0%B8%D0%BA%D1%96%D0%B2\" title=\"\\xd0\\x97\\xd0\\xb5\\xd0\\xbc\\xd0\\xbb\\xd1\\x8f \\xd0\\xba\\xd0\\xbe\\xd1\\x87\\xd0\\xbe\\xd0\\xb2\\xd0\\xb8\\xd0\\xba\\xd1\\x96\\xd0\\xb2 \\xe2\\x80\\x93 Ukrainian\" lang=\"uk\" hreflang=\"uk\" class=\"interlanguage-link-target\">\\xd0\\xa3\\xd0\\xba\\xd1\\x80\\xd0\\xb0\\xd1\\x97\\xd0\\xbd\\xd1\\x81\\xd1\\x8c\\xd0\\xba\\xd0\\xb0</a></li><li class=\"interlanguage-link interwiki-vi\"><a href=\"https://vi.wikipedia.org/wiki/Nomadland_(phim)\" title=\"Nomadland (phim) \\xe2\\x80\\x93 Vietnamese\" lang=\"vi\" hreflang=\"vi\" class=\"interlanguage-link-target\">Ti\\xe1\\xba\\xbfng Vi\\xe1\\xbb\\x87t</a></li><li class=\"interlanguage-link interwiki-zh\"><a href=\"https://zh.wikipedia.org/wiki/%E6%97%A0%E4%BE%9D%E4%B9%8B%E5%9C%B0\" title=\"\\xe6\\x97\\xa0\\xe4\\xbe\\x9d\\xe4\\xb9\\x8b\\xe5\\x9c\\xb0 \\xe2\\x80\\x93 Chinese\" lang=\"zh\" hreflang=\"zh\" class=\"interlanguage-link-target\">\\xe4\\xb8\\xad\\xe6\\x96\\x87</a></li></ul>\\n\\t\\t<div class=\"after-portlet after-portlet-lang\"><span class=\"wb-langlinks-edit wb-langlinks-link\"><a href=\"https://www.wikidata.org/wiki/Special:EntityPage/Q61740820#sitelinks-wikipedia\" title=\"Edit interlanguage links\" class=\"wbc-editpage\">Edit links</a></span></div>\\n\\t</div>\\n</nav>\\n\\n</div>\\n\\n</div>\\n<footer id=\"footer\" class=\"mw-footer\" role=\"contentinfo\" >\\n\\t<ul id=\"footer-info\" >\\n\\t<li id=\"footer-info-lastmod\"> This page was last edited on 25 June 2021, at 00:07<span class=\"anonymous-show\">&#160;(UTC)</span>.</li>\\n\\t<li id=\"footer-info-copyright\">Text is available under the <a rel=\"license\" href=\"//en.wikipedia.org/wiki/Wikipedia:Text_of_Creative_Commons_Attribution-ShareAlike_3.0_Unported_License\">Creative Commons Attribution-ShareAlike License</a><a rel=\"license\" href=\"//creativecommons.org/licenses/by-sa/3.0/\" style=\"display:none;\"></a>;\\nadditional terms may apply.  By using this site, you agree to the <a href=\"//foundation.wikimedia.org/wiki/Terms_of_Use\">Terms of Use</a> and <a href=\"//foundation.wikimedia.org/wiki/Privacy_policy\">Privacy Policy</a>. Wikipedia\\xc2\\xae is a registered trademark of the <a href=\"//www.wikimediafoundation.org/\">Wikimedia Foundation, Inc.</a>, a non-profit organization.</li>\\n</ul>\\n\\n\\t<ul id=\"footer-places\" >\\n\\t<li id=\"footer-places-privacy\"><a href=\"https://foundation.wikimedia.org/wiki/Privacy_policy\" class=\"extiw\" title=\"wmf:Privacy policy\">Privacy policy</a></li>\\n\\t<li id=\"footer-places-about\"><a href=\"/wiki/Wikipedia:About\" title=\"Wikipedia:About\">About Wikipedia</a></li>\\n\\t<li id=\"footer-places-disclaimer\"><a href=\"/wiki/Wikipedia:General_disclaimer\" title=\"Wikipedia:General disclaimer\">Disclaimers</a></li>\\n\\t<li id=\"footer-places-contact\"><a href=\"//en.wikipedia.org/wiki/Wikipedia:Contact_us\">Contact Wikipedia</a></li>\\n\\t<li id=\"footer-places-mobileview\"><a href=\"//en.m.wikipedia.org/w/index.php?title=Nomadland_(film)&amp;mobileaction=toggle_view_mobile\" class=\"noprint stopMobileRedirectToggle\">Mobile view</a></li>\\n\\t<li id=\"footer-places-developers\"><a href=\"https://www.mediawiki.org/wiki/Special:MyLanguage/How_to_contribute\">Developers</a></li>\\n\\t<li id=\"footer-places-statslink\"><a href=\"https://stats.wikimedia.org/#/en.wikipedia.org\">Statistics</a></li>\\n\\t<li id=\"footer-places-cookiestatement\"><a href=\"https://foundation.wikimedia.org/wiki/Cookie_statement\">Cookie statement</a></li>\\n</ul>\\n\\n\\t<ul id=\"footer-icons\" class=\"noprint\">\\n\\t<li id=\"footer-copyrightico\"><a href=\"https://wikimediafoundation.org/\"><img src=\"/static/images/footer/wikimedia-button.png\" srcset=\"/static/images/footer/wikimedia-button-1.5x.png 1.5x, /static/images/footer/wikimedia-button-2x.png 2x\" width=\"88\" height=\"31\" alt=\"Wikimedia Foundation\" loading=\"lazy\" /></a></li>\\n\\t<li id=\"footer-poweredbyico\"><a href=\"https://www.mediawiki.org/\"><img src=\"/static/images/footer/poweredby_mediawiki_88x31.png\" alt=\"Powered by MediaWiki\" srcset=\"/static/images/footer/poweredby_mediawiki_132x47.png 1.5x, /static/images/footer/poweredby_mediawiki_176x62.png 2x\" width=\"88\" height=\"31\" loading=\"lazy\"/></a></li>\\n</ul>\\n\\n</footer>\\n\\n\\n<script>(RLQ=window.RLQ||[]).push(function(){mw.config.set({\"wgPageParseReport\":{\"limitreport\":{\"cputime\":\"1.707\",\"walltime\":\"2.021\",\"ppvisitednodes\":{\"value\":6051,\"limit\":1000000},\"postexpandincludesize\":{\"value\":571485,\"limit\":2097152},\"templateargumentsize\":{\"value\":168240,\"limit\":2097152},\"expansiondepth\":{\"value\":24,\"limit\":40},\"expensivefunctioncount\":{\"value\":6,\"limit\":500},\"unstrip-depth\":{\"value\":1,\"limit\":20},\"unstrip-size\":{\"value\":210561,\"limit\":5000000},\"entityaccesscount\":{\"value\":1,\"limit\":400},\"timingprofile\":[\"100.00% 1528.795      1 -total\",\" 40.01%  611.626      2 Template:Reflist\",\" 28.24%  431.670     44 Template:Cite_web\",\" 15.32%  234.224      1 Template:Navboxes\",\" 12.77%  195.204     29 Template:Navbox\",\"  9.75%  149.031      1 Template:Infobox_film\",\"  8.11%  124.011      1 Template:Infobox\",\"  5.58%   85.260      1 Template:Short_description\",\"  4.10%   62.607     10 Template:Cite_news\",\"  3.29%   50.268      1 Template:Commons_category-inline\"]},\"scribunto\":{\"limitreport-timeusage\":{\"value\":\"0.775\",\"limit\":\"10.000\"},\"limitreport-memusage\":{\"value\":8096024,\"limit\":52428800}},\"cachereport\":{\"origin\":\"mw1269\",\"timestamp\":\"20210625132052\",\"ttl\":3600,\"transientcontent\":true}}});});</script>\\n<script type=\"application/ld+json\">{\"@context\":\"https:\\\\/\\\\/schema.org\",\"@type\":\"Article\",\"name\":\"Nomadland (film)\",\"url\":\"https:\\\\/\\\\/en.wikipedia.org\\\\/wiki\\\\/Nomadland_(film)\",\"sameAs\":\"http:\\\\/\\\\/www.wikidata.org\\\\/entity\\\\/Q61740820\",\"mainEntity\":\"http:\\\\/\\\\/www.wikidata.org\\\\/entity\\\\/Q61740820\",\"author\":{\"@type\":\"Organization\",\"name\":\"Contributors to Wikimedia projects\"},\"publisher\":{\"@type\":\"Organization\",\"name\":\"Wikimedia Foundation, Inc.\",\"logo\":{\"@type\":\"ImageObject\",\"url\":\"https:\\\\/\\\\/www.wikimedia.org\\\\/static\\\\/images\\\\/wmf-hor-googpub.png\"}},\"datePublished\":\"2019-02-12T20:21:58Z\",\"dateModified\":\"2021-06-25T00:07:08Z\",\"image\":\"https:\\\\/\\\\/upload.wikimedia.org\\\\/wikipedia\\\\/en\\\\/a\\\\/a5\\\\/Nomadland_poster.jpeg\",\"headline\":\"2020 film by Chlo\\\\u00e9 Zhao\"}</script>\\n<script>(RLQ=window.RLQ||[]).push(function(){mw.config.set({\"wgBackendResponseTime\":193,\"wgHostname\":\"mw1409\"});});</script>\\n</body></html>'\n"
     ]
    }
   ],
   "source": [
    "print(Response.content)"
   ]
  },
  {
   "cell_type": "code",
   "execution_count": 19,
   "metadata": {},
   "outputs": [],
   "source": [
    "souper=BeautifulSoup(Response.content,'html.parser')"
   ]
  },
  {
   "cell_type": "code",
   "execution_count": 32,
   "metadata": {},
   "outputs": [
    {
     "output_type": "stream",
     "name": "stdout",
     "text": [
      "Directed by\nChloé Zhao\n--------------\nProduced by\n\nFrances McDormand\nPeter Spears\nMollye Asher\nDan Janvey\nChloé Zhao\n\n--------------\nScreenplay by\nChloé Zhao\n--------------\nBased on\nNomadland: Surviving America in the Twenty-First Centuryby Jessica Bruder\n--------------\nStarring\n\nFrances McDormand\nDavid Strathairn\nLinda May\nSwankie\n\n--------------\nMusic by\nLudovico Einaudi\n--------------\nCinematography\nJoshua James Richards\n--------------\nEdited by\nChloé Zhao\n--------------\nProductioncompanies \n\nHighwayman Films\nHear/Say Productions\nCor Cordium Productions\n\n--------------\nDistributed by\nSearchlight Pictures\n--------------\nRelease date\n\nSeptember 11, 2020 (2020-09-11) (Venice)\nFebruary 19, 2021 (2021-02-19) (United States)\n\n--------------\nRunning time\n108 minutes\n--------------\nCountry\nUnited States\n--------------\nLanguage\nEnglish\n--------------\nBudget\n$5 million\n--------------\nBox office\n$20.7 million\n--------------\n"
     ]
    }
   ],
   "source": [
    "table_row=souper.find_all('tr')\n",
    "        #Find director\n",
    "for row in table_row:\n",
    "    try:\n",
    "        label=row.find_all('th',{'class':'infobox-label'})[0]\n",
    "        print(label.text)\n",
    "        data=row.find_all('td',{'class':'infobox-data'})[0]\n",
    "        print(data.text.split('[')[0])\n",
    "        print('--------------')\n",
    "    except:\n",
    "        pass"
   ]
  },
  {
   "cell_type": "code",
   "execution_count": null,
   "metadata": {},
   "outputs": [],
   "source": []
  }
 ]
}